{
 "cells": [
  {
   "cell_type": "code",
   "execution_count": 35,
   "metadata": {},
   "outputs": [],
   "source": [
    "import paramiko\n",
    "from getpass import getpass\n",
    "\n",
    "# Create Password Prompt\n",
    "\n",
    "thePass = getpass(prompt=\"Please Enter your SSH Password: \")\n",
    "\n",
    "# Host Information\n",
    "\n",
    "host = \"127.0.0.1\"\n",
    "port = \"22\"\n",
    "username = \"Micah\"\n",
    "password = thePass\n",
    "\n",
    "try:\n",
    "\n",
    "    ssh = paramiko.SSHClient()\n",
    "    ssh.set_missing_host_key_policy(paramiko.AutoAddPolicy())\n",
    "    ssh.connect(host, port, username, password)\n",
    "\n",
    "except paramiko.AuthenticationException:\n",
    "    print(\"Authentication Failed.\")"
   ]
  },
  {
   "cell_type": "code",
   "execution_count": 36,
   "metadata": {},
   "outputs": [],
   "source": [
    "sftp = ssh.open_sftp()\n",
    "# List of files to download\n",
    "files = ['c:\\Windows\\System32\\Drivers\\etc\\hosts']\n",
    "\n",
    "# files = ['c:\\Windows\\System32\\Drivers\\etc\\hosts' , 'C:\\WINDOWS\\system32\\config\\SAM' , 'C:\\Windows\\System32\\winevt\\Logs']\n",
    "# I was trying to convert your Linux file directories to the Windows Equivalent. Because of this, I couldnt get all the directories to work. The hosts file worked though.\n",
    "\n",
    "# Loop through files and download\n",
    "for eachFile in files:\n",
    "\n",
    "    # Create list from filename\n",
    "    x = eachFile.split(\"\\\\\")\n",
    "\n",
    "    #print(x)\n",
    "\n",
    "    # -1 used to pluck last element in a list\n",
    "    filename = x[-1]\n",
    "    #print(filename)\n",
    "    \n",
    "    # Local path to store files\n",
    "    local_path = \"../../remote_files/\" + filename\n",
    "\n",
    "    sftp.get(eachFile, local_path)\n",
    "    #sftp.put(LOCALFILE,REMOTESIDE)\n",
    "\n",
    "ssh.close()\n"
   ]
  }
 ],
 "metadata": {
  "kernelspec": {
   "display_name": "Python 3.9.5 64-bit",
   "language": "python",
   "name": "python3"
  },
  "language_info": {
   "codemirror_mode": {
    "name": "ipython",
    "version": 3
   },
   "file_extension": ".py",
   "mimetype": "text/x-python",
   "name": "python",
   "nbconvert_exporter": "python",
   "pygments_lexer": "ipython3",
   "version": "3.9.5"
  },
  "orig_nbformat": 4,
  "vscode": {
   "interpreter": {
    "hash": "2465d31751342ac13dff0fb3af1e64fdf0a22789ee67838b9031b1c05a5e6ecd"
   }
  }
 },
 "nbformat": 4,
 "nbformat_minor": 2
}
