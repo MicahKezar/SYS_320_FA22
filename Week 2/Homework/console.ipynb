{
 "cells": [
  {
   "cell_type": "code",
   "execution_count": 89,
   "metadata": {},
   "outputs": [
    {
     "data": {
      "text/plain": [
       "<module 'proxyLog' from 'c:\\\\Users\\\\micah\\\\Documents\\\\SYS320\\\\SYS_320_FA22\\\\Week 2\\\\Homework\\\\proxyLog.py'>"
      ]
     },
     "execution_count": 89,
     "metadata": {},
     "output_type": "execute_result"
    }
   ],
   "source": [
    "import proxyLog\n",
    "import importlib\n",
    "importlib.reload(proxyLog)"
   ]
  },
  {
   "cell_type": "markdown",
   "metadata": {},
   "source": [
    "### Proxy Log Events"
   ]
  },
  {
   "cell_type": "code",
   "execution_count": 90,
   "metadata": {},
   "outputs": [
    {
     "name": "stdout",
     "output_type": "stream",
     "text": [
      "QQ.exe tcpconn.tencent.com:80 open\n",
      "QQProtectUpd.exe open through\n",
      "QQ.exe tcpconn6.tencent.com:80 open\n",
      "QQPlayer.exe open through\n",
      "QQ.exe 183.60.49.182:443 open\n",
      "QQ.exe tcpconn6.tencent.com:443 open\n",
      "QQ.exe tcpconn3.tencent.com:443 open\n",
      "QQ.exe open through\n"
     ]
    }
   ],
   "source": [
    "proxyLog.proxy_events('../../logs/Proxifier_2k.log','proxy','qqOpen')"
   ]
  },
  {
   "cell_type": "code",
   "execution_count": 91,
   "metadata": {},
   "outputs": [
    {
     "ename": "IndexError",
     "evalue": "list index out of range",
     "output_type": "error",
     "traceback": [
      "\u001b[1;31m---------------------------------------------------------------------------\u001b[0m",
      "\u001b[1;31mIndexError\u001b[0m                                Traceback (most recent call last)",
      "\u001b[1;32mc:\\Users\\micah\\Documents\\SYS320\\SYS_320_FA22\\Week 2\\Homework\\console.ipynb Cell 4\u001b[0m in \u001b[0;36m<cell line: 1>\u001b[1;34m()\u001b[0m\n\u001b[1;32m----> <a href='vscode-notebook-cell:/c%3A/Users/micah/Documents/SYS320/SYS_320_FA22/Week%202/Homework/console.ipynb#W3sZmlsZQ%3D%3D?line=0'>1</a>\u001b[0m proxyLog\u001b[39m.\u001b[39;49mproxy_events(\u001b[39m'\u001b[39;49m\u001b[39m../../logs/Proxifier_2k.log\u001b[39;49m\u001b[39m'\u001b[39;49m,\u001b[39m'\u001b[39;49m\u001b[39mproxy\u001b[39;49m\u001b[39m'\u001b[39;49m,\u001b[39m'\u001b[39;49m\u001b[39mqqClose\u001b[39;49m\u001b[39m'\u001b[39;49m)\n",
      "File \u001b[1;32mc:\\Users\\micah\\Documents\\SYS320\\SYS_320_FA22\\Week 2\\Homework\\proxyLog.py:31\u001b[0m, in \u001b[0;36mproxy_events\u001b[1;34m(filename, service, term)\u001b[0m\n\u001b[0;32m     29\u001b[0m         found\u001b[39m.\u001b[39mappend(sp_results[\u001b[39m0\u001b[39m] \u001b[39m+\u001b[39m \u001b[39m\"\u001b[39m\u001b[39m \u001b[39m\u001b[39m\"\u001b[39m \u001b[39m+\u001b[39m sp_results[\u001b[39m2\u001b[39m] \u001b[39m+\u001b[39m \u001b[39m\"\u001b[39m\u001b[39m \u001b[39m\u001b[39m\"\u001b[39m \u001b[39m+\u001b[39m sp_results[\u001b[39m3\u001b[39m])\n\u001b[0;32m     30\u001b[0m     \u001b[39mif\u001b[39;00m(term \u001b[39m==\u001b[39m \u001b[39m\"\u001b[39m\u001b[39mqqClose\u001b[39m\u001b[39m\"\u001b[39m):\n\u001b[1;32m---> 31\u001b[0m         found\u001b[39m.\u001b[39mappend(sp_results[\u001b[39m4\u001b[39m] \u001b[39m+\u001b[39m \u001b[39m\"\u001b[39m\u001b[39m \u001b[39m\u001b[39m\"\u001b[39m \u001b[39m+\u001b[39m sp_results[\u001b[39m5\u001b[39m] \u001b[39m+\u001b[39m \u001b[39m\"\u001b[39m\u001b[39m \u001b[39m\u001b[39m\"\u001b[39m \u001b[39m+\u001b[39m sp_results[\u001b[39m6\u001b[39;49m])\n\u001b[0;32m     33\u001b[0m \u001b[39m# Remove duplicates by using set\u001b[39;00m\n\u001b[0;32m     34\u001b[0m \u001b[39m# and convert list to dictionary\u001b[39;00m\n\u001b[0;32m     36\u001b[0m hosts \u001b[39m=\u001b[39m \u001b[39mset\u001b[39m(found)\n",
      "\u001b[1;31mIndexError\u001b[0m: list index out of range"
     ]
    }
   ],
   "source": [
    "proxyLog.proxy_events('../../logs/Proxifier_2k.log','proxy','qqClose')"
   ]
  }
 ],
 "metadata": {
  "kernelspec": {
   "display_name": "Python 3.9.5 64-bit",
   "language": "python",
   "name": "python3"
  },
  "language_info": {
   "codemirror_mode": {
    "name": "ipython",
    "version": 3
   },
   "file_extension": ".py",
   "mimetype": "text/x-python",
   "name": "python",
   "nbconvert_exporter": "python",
   "pygments_lexer": "ipython3",
   "version": "3.9.5"
  },
  "orig_nbformat": 4,
  "vscode": {
   "interpreter": {
    "hash": "2465d31751342ac13dff0fb3af1e64fdf0a22789ee67838b9031b1c05a5e6ecd"
   }
  }
 },
 "nbformat": 4,
 "nbformat_minor": 2
}
