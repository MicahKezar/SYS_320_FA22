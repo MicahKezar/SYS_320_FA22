{
 "cells": [
  {
   "cell_type": "code",
   "execution_count": 92,
   "metadata": {},
   "outputs": [
    {
     "data": {
      "text/plain": [
       "<module 'proxyLog' from 'c:\\\\Users\\\\micah\\\\Documents\\\\SYS320\\\\SYS_320_FA22\\\\Week 2\\\\Homework\\\\proxyLog.py'>"
      ]
     },
     "execution_count": 92,
     "metadata": {},
     "output_type": "execute_result"
    }
   ],
   "source": [
    "import proxyLog\n",
    "import importlib\n",
    "importlib.reload(proxyLog)"
   ]
  },
  {
   "cell_type": "markdown",
   "metadata": {},
   "source": [
    "### Proxy Log Events"
   ]
  },
  {
   "cell_type": "code",
   "execution_count": 93,
   "metadata": {},
   "outputs": [
    {
     "name": "stdout",
     "output_type": "stream",
     "text": [
      "QQ.exe tcpconn.tencent.com:80 open\n",
      "QQProtectUpd.exe open through\n",
      "QQ.exe tcpconn6.tencent.com:80 open\n",
      "QQPlayer.exe open through\n",
      "QQ.exe 183.60.49.182:443 open\n",
      "QQ.exe tcpconn6.tencent.com:443 open\n",
      "QQ.exe tcpconn3.tencent.com:443 open\n",
      "QQ.exe open through\n"
     ]
    }
   ],
   "source": [
    "proxyLog.proxy_events('../../logs/Proxifier_2k.log','proxy','qqOpen')"
   ]
  },
  {
   "cell_type": "code",
   "execution_count": 94,
   "metadata": {},
   "outputs": [
    {
     "name": "stdout",
     "output_type": "stream",
     "text": [
      "bytes sent\n",
      "0 bytes\n",
      "149 bytes\n",
      "133 bytes\n"
     ]
    }
   ],
   "source": [
    "proxyLog.proxy_events('../../logs/Proxifier_2k.log','proxy','qqClose')"
   ]
  }
 ],
 "metadata": {
  "kernelspec": {
   "display_name": "Python 3.9.5 64-bit",
   "language": "python",
   "name": "python3"
  },
  "language_info": {
   "codemirror_mode": {
    "name": "ipython",
    "version": 3
   },
   "file_extension": ".py",
   "mimetype": "text/x-python",
   "name": "python",
   "nbconvert_exporter": "python",
   "pygments_lexer": "ipython3",
   "version": "3.9.5"
  },
  "orig_nbformat": 4,
  "vscode": {
   "interpreter": {
    "hash": "2465d31751342ac13dff0fb3af1e64fdf0a22789ee67838b9031b1c05a5e6ecd"
   }
  }
 },
 "nbformat": 4,
 "nbformat_minor": 2
}
